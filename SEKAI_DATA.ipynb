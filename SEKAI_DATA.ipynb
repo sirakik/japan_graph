{
  "nbformat": 4,
  "nbformat_minor": 0,
  "metadata": {
    "colab": {
      "name": "SEKAI_DATA.ipynb",
      "provenance": [],
      "collapsed_sections": [],
      "authorship_tag": "ABX9TyNDiJoHmFlN1e2ioKpjRd4F",
      "include_colab_link": true
    },
    "kernelspec": {
      "name": "python3",
      "display_name": "Python 3"
    }
  },
  "cells": [
    {
      "cell_type": "markdown",
      "metadata": {
        "id": "view-in-github",
        "colab_type": "text"
      },
      "source": [
        "<a href=\"https://colab.research.google.com/github/sirakik/japan_graph/blob/master/SEKAI_DATA.ipynb\" target=\"_parent\"><img src=\"https://colab.research.google.com/assets/colab-badge.svg\" alt=\"Open In Colab\"/></a>"
      ]
    },
    {
      "cell_type": "markdown",
      "metadata": {
        "id": "48bIiQbQ6dUY",
        "colab_type": "text"
      },
      "source": [
        "「地球には国境などどこにもない」   ので，細かいことは考えない."
      ]
    },
    {
      "cell_type": "markdown",
      "metadata": {
        "id": "Zs367BuAd5pk",
        "colab_type": "text"
      },
      "source": [
        "###あまりよくないソース"
      ]
    },
    {
      "cell_type": "markdown",
      "metadata": {
        "id": "zdF81j1ieTH3",
        "colab_type": "text"
      },
      "source": [
        "国境（個人のブログ）：　https://misunderstanding.hatenadiary.org/entry/20090305/1236185179  \n",
        "ISO　3166-1コード一覧 https://qiita.com/tao_s/items/32b90a2751bfbdd585ea  "
      ]
    },
    {
      "cell_type": "code",
      "metadata": {
        "id": "Ez_98qm-D-Lv",
        "colab_type": "code",
        "colab": {}
      },
      "source": [
        "import csv\n",
        "!wget -q https://raw.githubusercontent.com/sirakik/japan_graph/master/the_creation/border.csv -O border.csv\n",
        "with open('border.csv') as f:\n",
        "    reader = csv.reader(f)\n",
        "    border = [row for row in reader]\n",
        "\n",
        "!wget -q https://raw.githubusercontent.com/sirakik/japan_graph/master/the_creation/iso_rename.csv -O iso.csv\n",
        "with open('iso.csv') as f:\n",
        "    reader = csv.reader(f)\n",
        "    iso = [row for row in reader]\n",
        "\n",
        "!wget -q https://raw.githubusercontent.com/sirakik/japan_graph/master/the_creation/captal.csv -O capital.csv\n",
        "with open('capital.csv') as f:\n",
        "    reader = csv.reader(f)\n",
        "    capital = [row for row in reader]"
      ],
      "execution_count": 106,
      "outputs": []
    },
    {
      "cell_type": "code",
      "metadata": {
        "id": "wuHVlIwejyCh",
        "colab_type": "code",
        "colab": {
          "base_uri": "https://localhost:8080/",
          "height": 68
        },
        "outputId": "ea9b026a-d2df-4371-aee3-60a2580638fd"
      },
      "source": [
        "print(len(border))#194カ国(おそらく国連加盟国＋バチカン)　国境データを優先\n",
        "print(len(iso))    #250カ国\n",
        "print(len(capital))"
      ],
      "execution_count": 107,
      "outputs": [
        {
          "output_type": "stream",
          "text": [
            "194\n",
            "251\n",
            "200\n"
          ],
          "name": "stdout"
        }
      ]
    },
    {
      "cell_type": "markdown",
      "metadata": {
        "id": "e4VcKTObg4bt",
        "colab_type": "text"
      },
      "source": [
        "国境データ：194カ国(おそらく国連加盟国＋バチカン)　  \n",
        "ISOデータ：251カ国  \n",
        "\n",
        "多くの国に認められていないような国家の情報は，ほとんど取得できないと想像.  \n",
        "ノード数は,国境データを利用\n",
        "\n",
        "\n",
        "\n",
        "国のindex(0~193)はISOデータを利用（50音順）\n"
      ]
    },
    {
      "cell_type": "code",
      "metadata": {
        "id": "v2naL_nFiqNr",
        "colab_type": "code",
        "colab": {
          "base_uri": "https://localhost:8080/",
          "height": 51
        },
        "outputId": "35538a5b-75b5-443b-f49e-264daead4f1c"
      },
      "source": [
        "print(border[0])\n",
        "print(iso[1])"
      ],
      "execution_count": 86,
      "outputs": [
        {
          "output_type": "stream",
          "text": [
            "['ロシア', 'アゼルバイジャン', 'ウクライナ', 'エストニア', 'カザフスタン', 'グルジア', '中華人民共和国', '朝鮮民主主義人民共和国', 'ノルウェー', 'フィンランド', 'ベラルーシ', 'ポーランド', 'モンゴル', 'ラトビア', 'リトアニア']\n",
            "['アイスランド', 'Iceland', '352', 'ISL', 'IS', '北ヨーロッパ', 'ISO 3166-2:IS']\n"
          ],
          "name": "stdout"
        }
      ]
    },
    {
      "cell_type": "markdown",
      "metadata": {
        "id": "TIRnX_ofkgvB",
        "colab_type": "text"
      },
      "source": [
        "データによって国名が違うのため，手作業で変更(ISOデータの日本語名を変換)\n",
        "\n",
        "ISOにコソボが無いが, 国境データにはある.　（コソボは国連未加入）\n",
        "ISOデータにコソボデータを追加\n"
      ]
    },
    {
      "cell_type": "markdown",
      "metadata": {
        "id": "siViFVFCkp_2",
        "colab_type": "text"
      },
      "source": [
        "欲しいデータ\n",
        "['国名(英語)', '英3字', '首都の緯度経度(後で)', '[隣接国]']"
      ]
    },
    {
      "cell_type": "code",
      "metadata": {
        "id": "8v8sFwBoDGuQ",
        "colab_type": "code",
        "colab": {}
      },
      "source": [
        "country_list = []\n",
        "\n",
        "\n",
        "for row in iso:\n",
        "    country_jp = row[0]\n",
        "    \n",
        "    for row_border in border:\n",
        "        if country_jp == row_border[0]:\n",
        "            neighbor = [i for i in row_border[1:] if i != '']\n",
        "\n",
        "            for i, nie_country in enumerate(neighbor):\n",
        "                for row_ in iso:\n",
        "                    if nie_country == row_[0]:\n",
        "                        neighbor[i] = row_[1]\n",
        "\n",
        "            country_list.append([row[1], row[3], row[4], neighbor])\n",
        "            break"
      ],
      "execution_count": 108,
      "outputs": []
    },
    {
      "cell_type": "code",
      "metadata": {
        "id": "6A5pjdQb3SE5",
        "colab_type": "code",
        "colab": {
          "base_uri": "https://localhost:8080/",
          "height": 54
        },
        "outputId": "eb9a5a91-323a-4a2c-f056-95d551a05ab4"
      },
      "source": [
        "print(country_list)"
      ],
      "execution_count": 95,
      "outputs": [
        {
          "output_type": "stream",
          "text": [
            "[['Iceland', 'ISL', 'IS', []], ['Ireland', 'IRL', 'IE', ['United Kingdom']], ['Azerbaijan', 'AZE', 'AZ', ['Iran', 'Georgia', 'Armenia', 'Russian Federation']], ['Afghanistan', 'AFG', 'AF', ['Iran', 'Uzbekistan', 'Tajikistan', 'China', 'Turkmenistan', 'Pakistan']], ['United States', 'USA', 'US', ['Canada', 'Mexico']], ['United Arab Emirates', 'ARE', 'AE', ['Oman', 'Qatar', 'Saudi Arabia']], ['Algeria', 'DZA', 'DZ', ['Tunisia', 'Niger', 'Mali', 'Mauritania', 'Morocco', 'Libya']], ['Argentina', 'ARG', 'AR', ['Uruguay', 'Chile', 'Paraguay', 'Bolivia', 'Brazil']], ['Albania', 'ALB', 'AL', ['Greece', 'Kosovo', 'Macedonia', 'Montenegro']], ['Armenia', 'ARM', 'AM', ['Iran', 'Azerbaijan', 'Georgia', 'Turkey']], ['Angola', 'AGO', 'AO', ['Congo', 'Congo', 'Zambia', 'Namibia']], ['Antigua and Barbuda', 'ATG', 'AG', []], ['Andorra', 'AND', 'AD', ['Spain', 'France']], ['Yemen', 'YEM', 'YE', ['Oman', 'Saudi Arabia']], ['United Kingdom', 'GBR', 'GB', ['Ireland', 'Cyprus', 'Spain']], ['Israel', 'ISR', 'IL', ['Egypt', 'Syrian Arab Republic', 'Jordan', 'Lebanon']], ['Italy', 'ITA', 'IT', ['Austria', 'San Marino', 'Switzerland', 'Slovenia', 'Holy See (Vatican City State)', 'France']], ['Iraq', 'IRQ', 'IQ', ['Iran', 'Kuwait', 'Saudi Arabia', 'Syrian Arab Republic', 'Turkey', 'Jordan']], ['Iran', 'IRN', 'IR', ['Azerbaijan', 'Afghanistan', 'Armenia', 'Iraq', 'Turkmenistan', 'Turkey', 'Pakistan']], ['India', 'IND', 'IN', ['China', 'Bangladesh', 'Bhutan', 'Nepal', 'Myanmar']], ['Indonesia', 'IDN', 'ID', ['Timor-Leste', 'Papua New Guinea', 'Malaysia']], ['Uganda', 'UGA', 'UG', ['Kenya', 'Congo', 'Sudan', 'Tanzania', 'Rwanda']], ['Ukraine', 'UKR', 'UA', ['Slovakia', 'Hungary', 'Belarus', 'Poland', 'Moldova', 'Romania', 'Russian Federation']], ['Uzbekistan', 'UZB', 'UZ', ['Afghanistan', 'Kazakhstan', 'Kyrgyzstan', 'Tajikistan', 'Turkmenistan']], ['Uruguay', 'URY', 'UY', ['Argentina', 'Brazil']], ['Ecuador', 'ECU', 'EC', ['Colombia', 'Peru']], ['Egypt', 'EGY', 'EG', ['Israel', 'Sudan', 'Libya']], ['Estonia', 'EST', 'EE', ['Latvia', 'Russian Federation']], ['Ethiopia', 'ETH', 'ET', ['Eritrea', 'Kenya', 'Djibouti', 'Sudan', 'Somalia']], ['Eritrea', 'ERI', 'ER', ['Ethiopia', 'Djibouti', 'Sudan']], ['El Salvador', 'SLV', 'SV', ['Guatemala', 'Honduras']], ['Australia', 'AUS', 'AU', []], ['Austria', 'AUT', 'AT', ['Italy', 'Switzerland', 'Slovakia', 'Slovenia', 'Czech Republic', 'Germany', 'Hungary', 'Liechtenstein']], ['Oman', 'OMN', 'OM', ['United Arab Emirates', 'Yemen', 'Saudi Arabia']], ['Netherlands', 'NLD', 'NL', ['Germany', 'Belgium']], ['Ghana', 'GHA', 'GH', [\"Côte d'Ivoire\", 'Togo', 'Burkina Faso']], ['Cape Verde', 'CPV', 'CV', []], ['Guyana', 'GUY', 'GY', ['Suriname', 'Brazil', 'Venezuela']], ['Kazakhstan', 'KAZ', 'KZ', ['Uzbekistan', 'Kyrgyzstan', 'China', 'Turkmenistan', 'Russian Federation']], ['Qatar', 'QAT', 'QA', ['United Arab Emirates', 'Saudi Arabia']], ['Canada', 'CAN', 'CA', ['United States']], ['Gabon', 'GAB', 'GA', ['Cameroon', 'Congo', 'Equatorial Guinea']], ['Cameroon', 'CMR', 'CM', ['Gabon', 'Congo', 'Equatorial Guinea', 'Chad', 'Central African Republic', 'Nigeria']], ['Gambia', 'GMB', 'GM', ['Senegal']], ['Cambodia', 'KHM', 'KH', ['Thailand', 'Viet Nam', \"Lao People's Democratic Republic\"]], ['Guinea', 'GIN', 'GN', ['Guinea-Bissau', \"Côte d'Ivoire\", 'Sierra Leone', 'Senegal', 'Mali', 'Liberia']], ['Guinea-Bissau', 'GNB', 'GW', ['Guinea', 'Senegal']], ['Cyprus', 'CYP', 'CY', ['United Kingdom']], ['Cuba', 'CUB', 'CU', []], ['Greece', 'GRC', 'GR', ['Albania', 'Turkey', 'Bulgaria', 'Macedonia']], ['Kiribati', 'KIR', 'KI', []], ['Kyrgyzstan', 'KGZ', 'KG', ['Uzbekistan', 'Kazakhstan', 'Tajikistan', 'China']], ['Guatemala', 'GTM', 'GT', ['El Salvador', 'Belize', 'Honduras', 'Mexico']], ['Kuwait', 'KWT', 'KW', ['Iraq', 'Saudi Arabia']], ['Georgia', 'GEO', 'GE', ['Armenia', 'Azerbaijan', 'Turkey', 'Russian Federation']], ['Grenada', 'GRD', 'GD', []], ['Croatia', 'HRV', 'HR', ['Slovenia', 'Serbia', 'Hungary', 'Bosnia and Herzegovina']], ['Kenya', 'KEN', 'KE', ['Uganda', 'Ethiopia', 'Sudan', 'Somalia', 'Tanzania']], [\"Côte d'Ivoire\", 'CIV', 'CI', ['Ghana', 'Guinea', 'Burkina Faso', 'Mali', 'Liberia']], ['Costa Rica', 'CRI', 'CR', ['Nicaragua', 'Panama']], ['Kosovo', 'KOS', 'KO', ['Albania', 'Serbia', 'Macedonia', 'Montenegro']], ['Comoros', 'COM', 'KM', []], ['Colombia', 'COL', 'CO', ['Ecuador', 'Panama', 'Brazil', 'Venezuela', 'Peru']], ['Congo', 'COG', 'CG', ['Angola', 'Gabon', 'Cameroon', 'Congo', 'Central African Republic']], ['Congo', 'COD', 'CD', ['Angola', 'Uganda', 'Congo', 'Zambia', 'Sudan', 'Tanzania', 'Central African Republic', 'Burundi', 'Rwanda']], ['Saudi Arabia', 'SAU', 'SA', ['United Arab Emirates', 'Yemen', 'Iraq', 'Oman', 'Qatar', 'Kuwait', 'Jordan']], ['Samoa', 'WSM', 'WS', []], ['Sao Tome and Principe', 'STP', 'ST', []], ['Zambia', 'ZMB', 'ZM', ['Angola', 'Congo', 'Zimbabwe', 'Tanzania', 'Namibia', 'Botswana', 'Malawi', 'Mozambique']], ['San Marino', 'SMR', 'SM', ['Italy']], ['Sierra Leone', 'SLE', 'SL', ['Guinea', 'Liberia']], ['Djibouti', 'DJI', 'DJ', ['Ethiopia', 'Eritrea', 'Somalia']], ['Jamaica', 'JAM', 'JM', []], ['Syrian Arab Republic', 'SYR', 'SY', ['Israel', 'Iraq', 'Turkey', 'Jordan', 'Lebanon']], ['Singapore', 'SGP', 'SG', []], ['Zimbabwe', 'ZWE', 'ZW', ['Zambia', 'Botswana', 'South Africa', 'Mozambique']], ['Switzerland', 'CHE', 'CH', ['Italy', 'Austria', 'Germany', 'France', 'Liechtenstein']], ['Sweden', 'SWE', 'SE', ['Finland', 'Norway']], ['Sudan', 'SDN', 'SD', ['Uganda', 'Egypt', 'Ethiopia', 'Eritrea', 'Kenya', 'Congo', 'Chad', 'Central African Republic', 'Libya']], ['Spain', 'ESP', 'ES', ['Andorra', 'United Kingdom', 'France', 'Portugal', 'Morocco']], ['Suriname', 'SUR', 'SR', ['Guyana', 'France', 'Brazil']], ['Sri Lanka', 'LKA', 'LK', []], ['Slovakia', 'SVK', 'SK', ['Ukraine', 'Austria', 'Czech Republic', 'Hungary', 'Poland']], ['Slovenia', 'SVN', 'SI', ['Italy', 'Austria', 'Croatia', 'Hungary']], ['Swaziland', 'SWZ', 'SZ', ['South Africa', 'Mozambique']], ['Seychelles', 'SYC', 'SC', []], ['Equatorial Guinea', 'GNQ', 'GQ', ['Gabon', 'Cameroon']], ['Senegal', 'SEN', 'SN', ['Gambia', 'Guinea', 'Guinea-Bissau', 'Mali', 'Mauritania']], ['Serbia', 'SRB', 'RS', ['Croatia', 'Kosovo', 'Hungary', 'Bulgaria', 'Bosnia and Herzegovina', 'Macedonia', 'Montenegro', 'Romania']], ['Saint Kitts and Nevis', 'KNA', 'KN', []], ['Saint Vincent and the Grenadines', 'VCT', 'VC', []], ['Saint Lucia', 'LCA', 'LC', []], ['Somalia', 'SOM', 'SO', ['Ethiopia', 'Kenya', 'Djibouti']], ['Solomon Islands', 'SLB', 'SB', []], ['Thailand', 'THA', 'TH', ['Cambodia', 'Malaysia', 'Myanmar', \"Lao People's Democratic Republic\"]], ['Korea', 'KOR', 'KR', [\"Korea, Democratic People's Republic of\"]], ['Tajikistan', 'TJK', 'TJ', ['Afghanistan', 'Uzbekistan', 'Kyrgyzstan', 'China']], ['Tanzania', 'TZA', 'TZ', ['Uganda', 'Kenya', 'Congo', 'Zambia', 'Burundi', 'Malawi', 'Mozambique', 'Rwanda']], ['Czech Republic', 'CZE', 'CZ', ['Austria', 'Slovakia', 'Germany', 'Poland']], ['Chad', 'TCD', 'TD', ['Cameroon', 'Sudan', 'Central African Republic', 'Nigeria', 'Niger', 'Libya']], ['Central African Republic', 'CAF', 'CF', ['Cameroon', 'Congo', 'Congo', 'Sudan', 'Chad']], ['China', 'CHN', 'CN', ['Afghanistan', 'India', 'Kazakhstan', 'Kyrgyzstan', 'Tajikistan', \"Korea, Democratic People's Republic of\", 'Viet Nam', 'Myanmar', 'Mongolia', \"Lao People's Democratic Republic\", 'Russian Federation']], ['Tunisia', 'TUN', 'TN', ['Algeria', 'Libya']], [\"Korea, Democratic People's Republic of\", 'PRK', 'KP', ['Korea', 'China', 'Russian Federation']], ['Chile', 'CHL', 'CL', ['Argentina', 'Peru', 'Bolivia']], ['Tuvalu', 'TUV', 'TV', []], ['Denmark', 'DNK', 'DK', ['Germany']], ['Germany', 'DEU', 'DE', ['Austria', 'Netherlands', 'Switzerland', 'Czech Republic', 'Denmark', 'France', 'Belgium', 'Poland', 'Luxembourg']], ['Togo', 'TGO', 'TG', ['Ghana', 'Burkina Faso', 'Benin']], ['Dominican Republic', 'DOM', 'DO', ['Haiti']], ['Dominica', 'DMA', 'DM', []], ['Trinidad and Tobago', 'TTO', 'TT', []], ['Turkmenistan', 'TKM', 'TM', ['Afghanistan', 'Iran', 'Uzbekistan', 'Kazakhstan']], ['Turkey', 'TUR', 'TR', ['Armenia', 'Iraq', 'Iran', 'Greece', 'Georgia', 'Syrian Arab Republic', 'Bulgaria']], ['Tonga', 'TON', 'TO', []], ['Nigeria', 'NGA', 'NG', ['Cameroon', 'Chad', 'Niger', 'Benin']], ['Nauru', 'NRU', 'NR', []], ['Namibia', 'NAM', 'NA', ['Angola', 'Zambia', 'Botswana', 'South Africa']], ['Nicaragua', 'NIC', 'NI', ['Costa Rica', 'Honduras']], ['Niger', 'NER', 'NE', ['Algeria', 'Chad', 'Nigeria', 'Burkina Faso', 'Benin', 'Mali', 'Libya']], ['Japan', 'JPN', 'JP', []], ['New Zealand', 'NZL', 'NZ', []], ['Nepal', 'NPL', 'NP', ['India', 'China']], ['Norway', 'NOR', 'NO', ['Sweden', 'Finland', 'Russian Federation']], ['Bahrain', 'BHR', 'BH', []], ['Haiti', 'HTI', 'HT', ['Dominican Republic']], ['Pakistan', 'PAK', 'PK', ['Afghanistan', 'India', 'Iran']], ['Holy See (Vatican City State)', 'VAT', 'VA', ['Italy']], ['Panama', 'PAN', 'PA', ['Costa Rica', 'Colombia']], ['Vanuatu', 'VUT', 'VU', []], ['Bahamas', 'BHS', 'BS', []], ['Papua New Guinea', 'PNG', 'PG', ['Indonesia']], ['Palau', 'PLW', 'PW', []], ['Paraguay', 'PRY', 'PY', ['Argentina', 'Brazil', 'Bolivia']], ['Barbados', 'BRB', 'BB', []], ['Hungary', 'HUN', 'HU', ['Ukraine', 'Austria', 'Croatia', 'Slovakia', 'Slovenia', 'Serbia', 'Romania']], ['Bangladesh', 'BGD', 'BD', ['India', 'Myanmar']], ['Timor-Leste', 'TLS', 'TL', ['Indonesia']], ['Fiji', 'FJI', 'FJ', []], ['Philippines', 'PHL', 'PH', []], ['Finland', 'FIN', 'FI', ['Sweden', 'Norway', 'Russian Federation']], ['Bhutan', 'BTN', 'BT', ['India', 'China']], ['Brazil', 'BRA', 'BR', ['Argentina', 'Uruguay', 'Guyana', 'Colombia', 'Suriname', 'Paraguay', 'France', 'Venezuela', 'Peru', 'Bolivia']], ['France', 'FRA', 'FR', ['Andorra', 'Italy', 'Switzerland', 'Spain', 'Germany', 'Belgium', 'Monaco', 'Luxembourg']], ['Bulgaria', 'BGR', 'BG', ['Greece', 'Serbia', 'Turkey', 'Macedonia', 'Romania']], ['Burkina Faso', 'BFA', 'BF', ['Ghana', \"Côte d'Ivoire\", 'Togo', 'Niger', 'Benin', 'Mali']], ['Brunei Darussalam', 'BRN', 'BN', ['Malaysia']], ['Burundi', 'BDI', 'BI', ['Congo', 'Tanzania', 'Rwanda']], ['Viet Nam', 'VNM', 'VN', ['Cambodia', 'China', \"Lao People's Democratic Republic\"]], ['Benin', 'BEN', 'BJ', ['Togo', 'Nigeria', 'Niger', 'Burkina Faso']], ['Venezuela', 'VEN', 'VE', ['Guyana', 'Colombia', 'Brazil']], ['Belarus', 'BLR', 'BY', ['Ukraine', 'Poland', 'Latvia', 'Lithuania', 'Russian Federation']], ['Belize', 'BLZ', 'BZ', ['Guatemala', 'Mexico']], ['Peru', 'PER', 'PE', ['Ecuador', 'Colombia', 'Chile', 'Brazil', 'Bolivia']], ['Belgium', 'BEL', 'BE', ['Netherlands', 'Germany', 'France', 'Luxembourg']], ['Poland', 'POL', 'PL', ['Ukraine', 'Slovakia', 'Czech Republic', 'Germany', 'Belarus', 'Lithuania', 'Russian Federation']], ['Bosnia and Herzegovina', 'BIH', 'BA', ['Croatia', 'Serbia', 'Montenegro']], ['Botswana', 'BWA', 'BW', ['Zimbabwe', 'Namibia', 'Botswana', 'South Africa']], ['Bolivia', 'BOL', 'BO', ['Argentina', 'Chile', 'Paraguay', 'Brazil', 'Peru']], ['Portugal', 'PRT', 'PT', ['Spain']], ['Honduras', 'HND', 'HN', ['El Salvador', 'Guatemala', 'Nicaragua']], ['Marshall Islands', 'MHL', 'MH', []], ['Macedonia', 'MKD', 'MK', ['Albania', 'Greece', 'Kosovo', 'Serbia', 'Bulgaria']], ['Madagascar', 'MDG', 'MG', []], ['Malawi', 'MWI', 'MW', ['Zambia', 'Tanzania', 'Mozambique']], ['Mali', 'MLI', 'ML', ['Algeria', 'Guinea', \"Côte d'Ivoire\", 'Senegal', 'Niger', 'Burkina Faso', 'Mauritania']], ['Malta', 'MLT', 'MT', []], ['Malaysia', 'MYS', 'MY', ['Thailand', 'Brunei Darussalam']], ['Micronesia', 'FSM', 'FM', []], ['South Africa', 'ZAF', 'ZA', ['Zimbabwe', 'Swaziland', 'Namibia', 'Botswana', 'Mozambique', 'Lesotho']], ['Myanmar', 'MMR', 'MM', ['India', 'Thailand', 'China', 'Bangladesh', \"Lao People's Democratic Republic\"]], ['Mexico', 'MEX', 'MX', ['United States', 'Guatemala', 'Belize']], ['Mauritius', 'MUS', 'MU', []], ['Mauritania', 'MRT', 'MR', ['Algeria', 'Senegal', 'Mali']], ['Mozambique', 'MOZ', 'MZ', ['Zambia', 'Zimbabwe', 'Swaziland', 'Tanzania', 'Malawi', 'South Africa']], ['Monaco', 'MCO', 'MC', ['Italy', 'France']], ['Maldives', 'MDV', 'MV', []], ['Moldova', 'MDA', 'MD', ['Ukraine', 'Romania']], ['Morocco', 'MAR', 'MA', ['Algeria', 'Spain']], ['Mongolia', 'MNG', 'MN', ['China', 'Russian Federation']], ['Montenegro', 'MNE', 'ME', ['Albania', 'Serbia', 'Bosnia and Herzegovina']], ['Jordan', 'JOR', 'JO', ['Israel', 'Iraq', 'Saudi Arabia', 'Syrian Arab Republic']], [\"Lao People's Democratic Republic\", 'LAO', 'LA', ['Cambodia', 'Thailand', 'China', 'Viet Nam', 'Myanmar']], ['Latvia', 'LVA', 'LV', ['Estonia', 'Belarus', 'Lithuania', 'Russian Federation']], ['Lithuania', 'LTU', 'LT', ['Belarus', 'Poland', 'Latvia', 'Russian Federation']], ['Libya', 'LBY', 'LY', ['Algeria', 'Egypt', 'Sudan', 'Chad', 'Tunisia', 'Niger']], ['Liechtenstein', 'LIE', 'LI', ['Austria', 'Switzerland']], ['Liberia', 'LBR', 'LR', ['Guinea', \"Côte d'Ivoire\", 'Sierra Leone']], ['Romania', 'ROU', 'RO', ['Ukraine', 'Serbia', 'Hungary', 'Bulgaria', 'Moldova']], ['Luxembourg', 'LUX', 'LU', ['Germany', 'France', 'Belgium']], ['Rwanda', 'RWA', 'RW', ['Uganda', 'Congo', 'Tanzania', 'Burundi']], ['Lesotho', 'LSO', 'LS', ['South Africa']], ['Lebanon', 'LBN', 'LB', ['Israel', 'Syrian Arab Republic', 'Jordan']], ['Russian Federation', 'RUS', 'RU', ['Azerbaijan', 'Ukraine', 'Estonia', 'Kazakhstan', 'Georgia', 'China', \"Korea, Democratic People's Republic of\", 'Norway', 'Finland', 'Belarus', 'Poland', 'Mongolia', 'Latvia', 'Lithuania']]]\n"
          ],
          "name": "stdout"
        }
      ]
    },
    {
      "cell_type": "markdown",
      "metadata": {
        "id": "jNvQAnnm9fzq",
        "colab_type": "text"
      },
      "source": [
        "首都の緯度経度を格納"
      ]
    },
    {
      "cell_type": "code",
      "metadata": {
        "id": "i5QCG8uY9h9R",
        "colab_type": "code",
        "colab": {}
      },
      "source": [
        "for i, cou in enumerate(country_list):\n",
        "    code = cou[2]\n",
        "    for cap in capital:\n",
        "        if code == cap[0]:\n",
        "            country_list[i][2] = [cap[1], cap[2]]\n",
        "            break"
      ],
      "execution_count": 109,
      "outputs": []
    },
    {
      "cell_type": "code",
      "metadata": {
        "id": "UsTOFODVAnr0",
        "colab_type": "code",
        "colab": {
          "base_uri": "https://localhost:8080/",
          "height": 54
        },
        "outputId": "d7b456e5-95bb-4288-f67e-00ef1785f38e"
      },
      "source": [
        "print(country_list)"
      ],
      "execution_count": 110,
      "outputs": [
        {
          "output_type": "stream",
          "text": [
            "[['Iceland', 'ISL', ['64.1265206', '-21.8174392'], []], ['Ireland', 'IRL', ['53.3498053', '-6.2603097'], ['United Kingdom']], ['Azerbaijan', 'AZE', ['40.4092617', '49.8670924'], ['Iran', 'Georgia', 'Armenia', 'Russian Federation']], ['Afghanistan', 'AFG', ['34.5553494', '69.207486'], ['Iran', 'Uzbekistan', 'Tajikistan', 'China', 'Turkmenistan', 'Pakistan']], ['United States', 'USA', ['38.9071923', '-77.0368707'], ['Canada', 'Mexico']], ['United Arab Emirates', 'ARE', ['24.453884', '54.3773438'], ['Oman', 'Qatar', 'Saudi Arabia']], ['Algeria', 'DZA', ['36.753768', '3.0587561'], ['Tunisia', 'Niger', 'Mali', 'Mauritania', 'Morocco', 'Libya']], ['Argentina', 'ARG', ['-34.6036844', '-58.3815591'], ['Uruguay', 'Chile', 'Paraguay', 'Bolivia', 'Brazil']], ['Albania', 'ALB', ['41.3275459', '19.8186982'], ['Greece', 'Kosovo', 'Macedonia', 'Montenegro']], ['Armenia', 'ARM', ['40.1791857', '44.4991029'], ['Iran', 'Azerbaijan', 'Georgia', 'Turkey']], ['Angola', 'AGO', ['-8.8399876', '13.2894368'], ['Congo', 'Congo', 'Zambia', 'Namibia']], ['Antigua and Barbuda', 'ATG', ['17.1274104', '-61.846772'], []], ['Andorra', 'AND', ['42.5063174', '1.5218355'], ['Spain', 'France']], ['Yemen', 'YEM', ['15.3694451', '44.1910066'], ['Oman', 'Saudi Arabia']], ['United Kingdom', 'GBR', ['51.5073509', '-0.1277583'], ['Ireland', 'Cyprus', 'Spain']], ['Israel', 'ISR', ['31.768319', '35.21371'], ['Egypt', 'Syrian Arab Republic', 'Jordan', 'Lebanon']], ['Italy', 'ITA', ['41.9027835', '12.4963655'], ['Austria', 'San Marino', 'Switzerland', 'Slovenia', 'Holy See (Vatican City State)', 'France']], ['Iraq', 'IRQ', ['33.3128057', '44.3614875'], ['Iran', 'Kuwait', 'Saudi Arabia', 'Syrian Arab Republic', 'Turkey', 'Jordan']], ['Iran', 'IRN', ['35.6891975', '51.3889736'], ['Azerbaijan', 'Afghanistan', 'Armenia', 'Iraq', 'Turkmenistan', 'Turkey', 'Pakistan']], ['India', 'IND', ['28.6139391', '77.2090212'], ['China', 'Bangladesh', 'Bhutan', 'Nepal', 'Myanmar']], ['Indonesia', 'IDN', ['-6.2087634', '106.845599'], ['Timor-Leste', 'Papua New Guinea', 'Malaysia']], ['Uganda', 'UGA', ['0.3475964', '32.5825197'], ['Kenya', 'Congo', 'Sudan', 'Tanzania', 'Rwanda']], ['Ukraine', 'UKR', ['50.4501', '30.5234'], ['Slovakia', 'Hungary', 'Belarus', 'Poland', 'Moldova', 'Romania', 'Russian Federation']], ['Uzbekistan', 'UZB', ['41.2994958', '69.2400734'], ['Afghanistan', 'Kazakhstan', 'Kyrgyzstan', 'Tajikistan', 'Turkmenistan']], ['Uruguay', 'URY', ['-34.9011127', '-56.1645314'], ['Argentina', 'Brazil']], ['Ecuador', 'ECU', ['-0.1806532', '-78.4678382'], ['Colombia', 'Peru']], ['Egypt', 'EGY', ['30.0444196', '31.2357116'], ['Israel', 'Sudan', 'Libya']], ['Estonia', 'EST', ['59.4369608', '24.7535747'], ['Latvia', 'Russian Federation']], ['Ethiopia', 'ETH', ['8.9806034', '38.7577605'], ['Eritrea', 'Kenya', 'Djibouti', 'Sudan', 'Somalia']], ['Eritrea', 'ERI', ['15.3228767', '38.9250517'], ['Ethiopia', 'Djibouti', 'Sudan']], ['El Salvador', 'SLV', ['13.6929403', '-89.2181911'], ['Guatemala', 'Honduras']], ['Australia', 'AUS', ['-35.308129', '149.124402'], []], ['Austria', 'AUT', ['48.2081743', '16.3738189'], ['Italy', 'Switzerland', 'Slovakia', 'Slovenia', 'Czech Republic', 'Germany', 'Hungary', 'Liechtenstein']], ['Oman', 'OMN', ['23.58589', '58.4059227'], ['United Arab Emirates', 'Yemen', 'Saudi Arabia']], ['Netherlands', 'NLD', ['52.3702157', '4.8951679'], ['Germany', 'Belgium']], ['Ghana', 'GHA', ['5.6037168', '-0.1869644'], [\"Côte d'Ivoire\", 'Togo', 'Burkina Faso']], ['Cape Verde', 'CPV', ['14.93305', '-23.5133267'], []], ['Guyana', 'GUY', ['6.8012793', '-58.1551255'], ['Suriname', 'Brazil', 'Venezuela']], ['Kazakhstan', 'KAZ', ['51.1605227', '71.4703558'], ['Uzbekistan', 'Kyrgyzstan', 'China', 'Turkmenistan', 'Russian Federation']], ['Qatar', 'QAT', ['25.2854473', '51.5310398'], ['United Arab Emirates', 'Saudi Arabia']], ['Canada', 'CAN', ['45.4215296', '-75.6971931'], ['United States']], ['Gabon', 'GAB', ['0.4161976', '9.4672676'], ['Cameroon', 'Congo', 'Equatorial Guinea']], ['Cameroon', 'CMR', ['3.8480325', '11.5020752'], ['Gabon', 'Congo', 'Equatorial Guinea', 'Chad', 'Central African Republic', 'Nigeria']], ['Gambia', 'GMB', ['13.4548761', '-16.5790323'], ['Senegal']], ['Cambodia', 'KHM', ['11.5563738', '104.9282099'], ['Thailand', 'Viet Nam', \"Lao People's Democratic Republic\"]], ['Guinea', 'GIN', ['9.6411855', '-13.5784012'], ['Guinea-Bissau', \"Côte d'Ivoire\", 'Sierra Leone', 'Senegal', 'Mali', 'Liberia']], ['Guinea-Bissau', 'GNB', ['11.8816553', '-15.6177942'], ['Guinea', 'Senegal']], ['Cyprus', 'CYP', ['35.1855659', '33.3822764'], ['United Kingdom']], ['Cuba', 'CUB', ['23.1135925', '-82.3665956'], []], ['Greece', 'GRC', ['37.9838096', '23.7275388'], ['Albania', 'Turkey', 'Bulgaria', 'Macedonia']], ['Kiribati', 'KIR', ['1.4518171', '172.9716617'], []], ['Kyrgyzstan', 'KGZ', ['42.8746212', '74.5697617'], ['Uzbekistan', 'Kazakhstan', 'Tajikistan', 'China']], ['Guatemala', 'GTM', ['14.6349149', '-90.5068824'], ['El Salvador', 'Belize', 'Honduras', 'Mexico']], ['Kuwait', 'KWT', ['29.375859', '47.9774052'], ['Iraq', 'Saudi Arabia']], ['Georgia', 'GEO', ['41.7151377', '44.827096'], ['Armenia', 'Azerbaijan', 'Turkey', 'Russian Federation']], ['Grenada', 'GRD', ['12.0560975', '-61.7487996'], []], ['Croatia', 'HRV', ['45.8150108', '15.9819189'], ['Slovenia', 'Serbia', 'Hungary', 'Bosnia and Herzegovina']], ['Kenya', 'KEN', ['-1.2920659', '36.8219462'], ['Uganda', 'Ethiopia', 'Sudan', 'Somalia', 'Tanzania']], [\"Côte d'Ivoire\", 'CIV', ['6.8276228', '-5.2893433'], ['Ghana', 'Guinea', 'Burkina Faso', 'Mali', 'Liberia']], ['Costa Rica', 'CRI', ['9.9280694', '-84.0907246'], ['Nicaragua', 'Panama']], ['Kosovo', 'KOS', ['21.1655', '42.6629'], ['Albania', 'Serbia', 'Macedonia', 'Montenegro']], ['Comoros', 'COM', ['-11.7172157', '43.2473146'], []], ['Colombia', 'COL', ['4.7109886', '-74.072092'], ['Ecuador', 'Panama', 'Brazil', 'Venezuela', 'Peru']], ['Congo', 'COG', ['-4.2633597', '15.2428853'], ['Angola', 'Gabon', 'Cameroon', 'Congo', 'Central African Republic']], ['Congo', 'COD', ['-4.4419311', '15.2662931'], ['Angola', 'Uganda', 'Congo', 'Zambia', 'Sudan', 'Tanzania', 'Central African Republic', 'Burundi', 'Rwanda']], ['Saudi Arabia', 'SAU', ['24.7135517', '46.6752957'], ['United Arab Emirates', 'Yemen', 'Iraq', 'Oman', 'Qatar', 'Kuwait', 'Jordan']], ['Samoa', 'WSM', ['-13.8506958', '-171.7513551'], []], ['Sao Tome and Principe', 'STP', ['0.3301924', '6.733343'], []], ['Zambia', 'ZMB', ['-15.3875259', '28.3228165'], ['Angola', 'Congo', 'Zimbabwe', 'Tanzania', 'Namibia', 'Botswana', 'Malawi', 'Mozambique']], ['San Marino', 'SMR', ['43.9355907', '12.4472806'], ['Italy']], ['Sierra Leone', 'SLE', ['8.4656765', '-13.2317225'], ['Guinea', 'Liberia']], ['Djibouti', 'DJI', ['11.5720765', '43.1456475'], ['Ethiopia', 'Eritrea', 'Somalia']], ['Jamaica', 'JAM', ['18.0178743', '-76.8099041'], []], ['Syrian Arab Republic', 'SYR', ['33.5138073', '36.2765279'], ['Israel', 'Iraq', 'Turkey', 'Jordan', 'Lebanon']], ['Singapore', 'SGP', ['1.355429', '103.867722'], []], ['Zimbabwe', 'ZWE', ['-17.8251657', '31.03351'], ['Zambia', 'Botswana', 'South Africa', 'Mozambique']], ['Switzerland', 'CHE', ['46.9479739', '7.4474468'], ['Italy', 'Austria', 'Germany', 'France', 'Liechtenstein']], ['Sweden', 'SWE', ['59.3293235', '18.0685808'], ['Finland', 'Norway']], ['Sudan', 'SDN', ['15.5006544', '32.5598994'], ['Uganda', 'Egypt', 'Ethiopia', 'Eritrea', 'Kenya', 'Congo', 'Chad', 'Central African Republic', 'Libya']], ['Spain', 'ESP', ['40.4167754', '-3.7037902'], ['Andorra', 'United Kingdom', 'France', 'Portugal', 'Morocco']], ['Suriname', 'SUR', ['5.8520355', '-55.2038278'], ['Guyana', 'France', 'Brazil']], ['Sri Lanka', 'LKA', ['6.8867616', '79.9187142'], []], ['Slovakia', 'SVK', ['48.1485965', '17.1077478'], ['Ukraine', 'Austria', 'Czech Republic', 'Hungary', 'Poland']], ['Slovenia', 'SVN', ['46.0569465', '14.5057515'], ['Italy', 'Austria', 'Croatia', 'Hungary']], ['Swaziland', 'SWZ', ['-26.3054482', '31.1366715'], ['South Africa', 'Mozambique']], ['Seychelles', 'SYC', ['-4.619143', '55.4513149'], []], ['Equatorial Guinea', 'GNQ', ['3.7504118', '8.7371039'], ['Gabon', 'Cameroon']], ['Senegal', 'SEN', ['14.716677', '-17.4676861'], ['Gambia', 'Guinea', 'Guinea-Bissau', 'Mali', 'Mauritania']], ['Serbia', 'SRB', ['44.786568', '20.4489216'], ['Croatia', 'Kosovo', 'Hungary', 'Bulgaria', 'Bosnia and Herzegovina', 'Macedonia', 'Montenegro', 'Romania']], ['Saint Kitts and Nevis', 'KNA', ['17.3026058', '-62.7176924'], []], ['Saint Vincent and the Grenadines', 'VCT', ['13.1600249', '-61.2248157'], []], ['Saint Lucia', 'LCA', ['14.0101094', '-60.9874687'], []], ['Somalia', 'SOM', ['2.0469343', '45.3181623'], ['Ethiopia', 'Kenya', 'Djibouti']], ['Solomon Islands', 'SLB', ['-9.4456381', '159.9728999'], []], ['Thailand', 'THA', ['13.7563309', '100.5017651'], ['Cambodia', 'Malaysia', 'Myanmar', \"Lao People's Democratic Republic\"]], ['Korea', 'KOR', ['37.552361', '126.991432'], [\"Korea, Democratic People's Republic of\"]], ['Tajikistan', 'TJK', ['38.5597722', '68.7870384'], ['Afghanistan', 'Uzbekistan', 'Kyrgyzstan', 'China']], ['Tanzania', 'TZA', ['-6.162959', '35.7516069'], ['Uganda', 'Kenya', 'Congo', 'Zambia', 'Burundi', 'Malawi', 'Mozambique', 'Rwanda']], ['Czech Republic', 'CZE', ['50.0755381', '14.4378005'], ['Austria', 'Slovakia', 'Germany', 'Poland']], ['Chad', 'TCD', ['12.1348457', '15.0557415'], ['Cameroon', 'Sudan', 'Central African Republic', 'Nigeria', 'Niger', 'Libya']], ['Central African Republic', 'CAF', ['4.3946735', '18.5581899'], ['Cameroon', 'Congo', 'Congo', 'Sudan', 'Chad']], ['China', 'CHN', ['39.9041999', '116.4073963'], ['Afghanistan', 'India', 'Kazakhstan', 'Kyrgyzstan', 'Tajikistan', \"Korea, Democratic People's Republic of\", 'Viet Nam', 'Myanmar', 'Mongolia', \"Lao People's Democratic Republic\", 'Russian Federation']], ['Tunisia', 'TUN', ['36.8064948', '10.1815316'], ['Algeria', 'Libya']], [\"Korea, Democratic People's Republic of\", 'PRK', ['39.0392193', '125.7625241'], ['Korea', 'China', 'Russian Federation']], ['Chile', 'CHL', ['-33.4488897', '-70.6692655'], ['Argentina', 'Peru', 'Bolivia']], ['Tuvalu', 'TUV', ['-8.5211471', '179.1961926'], []], ['Denmark', 'DNK', ['55.6760968', '12.5683372'], ['Germany']], ['Germany', 'DEU', ['52.5200066', '13.404954'], ['Austria', 'Netherlands', 'Switzerland', 'Czech Republic', 'Denmark', 'France', 'Belgium', 'Poland', 'Luxembourg']], ['Togo', 'TGO', ['6.1724969', '1.2313618'], ['Ghana', 'Burkina Faso', 'Benin']], ['Dominican Republic', 'DOM', ['18.4860575', '-69.9312117'], ['Haiti']], ['Dominica', 'DMA', ['15.3091676', '-61.3793554'], []], ['Trinidad and Tobago', 'TTO', ['10.6549013', '-61.5019256'], []], ['Turkmenistan', 'TKM', ['37.9600766', '58.3260629'], ['Afghanistan', 'Iran', 'Uzbekistan', 'Kazakhstan']], ['Turkey', 'TUR', ['39.9333635', '32.8597419'], ['Armenia', 'Iraq', 'Iran', 'Greece', 'Georgia', 'Syrian Arab Republic', 'Bulgaria']], ['Tonga', 'TON', ['-21.1393418', '-175.204947'], []], ['Nigeria', 'NGA', ['9.0764785', '7.398574'], ['Cameroon', 'Chad', 'Niger', 'Benin']], ['Nauru', 'NRU', ['-0.5466857', '166.9210913'], []], ['Namibia', 'NAM', ['-22.5608807', '17.0657549'], ['Angola', 'Zambia', 'Botswana', 'South Africa']], ['Nicaragua', 'NIC', ['12.1149926', '-86.2361744'], ['Costa Rica', 'Honduras']], ['Niger', 'NER', ['13.5115963', '2.1253854'], ['Algeria', 'Chad', 'Nigeria', 'Burkina Faso', 'Benin', 'Mali', 'Libya']], ['Japan', 'JPN', ['35.7090259', '139.7319925'], []], ['New Zealand', 'NZL', ['-41.2864603', '174.776236'], []], ['Nepal', 'NPL', ['27.7172453', '85.3239605'], ['India', 'China']], ['Norway', 'NOR', ['59.9138688', '10.7522454'], ['Sweden', 'Finland', 'Russian Federation']], ['Bahrain', 'BHR', ['26.2285161', '50.5860497'], []], ['Haiti', 'HTI', ['18.594395', '-72.3074326'], ['Dominican Republic']], ['Pakistan', 'PAK', ['33.6844202', '73.0478848'], ['Afghanistan', 'India', 'Iran']], ['Holy See (Vatican City State)', 'VAT', ['41.902916', '12.453389'], ['Italy']], ['Panama', 'PAN', ['8.9823792', '-79.5198696'], ['Costa Rica', 'Colombia']], ['Vanuatu', 'VUT', ['-17.7332512', '168.3273245'], []], ['Bahamas', 'BHS', ['25.0479835', '-77.355413'], []], ['Papua New Guinea', 'PNG', ['-9.4438004', '147.1802671'], ['Indonesia']], ['Palau', 'PLW', ['7.4951158', '134.6336896'], []], ['Paraguay', 'PRY', ['-25.2637399', '-57.575926'], ['Argentina', 'Brazil', 'Bolivia']], ['Barbados', 'BRB', ['13.0968511', '-59.6144819'], []], ['Hungary', 'HUN', ['47.497912', '19.040235'], ['Ukraine', 'Austria', 'Croatia', 'Slovakia', 'Slovenia', 'Serbia', 'Romania']], ['Bangladesh', 'BGD', ['23.810332', '90.4125181'], ['India', 'Myanmar']], ['Timor-Leste', 'TLS', ['-8.5568557', '125.5603143'], ['Indonesia']], ['Fiji', 'FJI', ['-18.1248086', '178.4500789'], []], ['Philippines', 'PHL', ['14.5995124', '120.9842195'], []], ['Finland', 'FIN', ['60.1698557', '24.9383791'], ['Sweden', 'Norway', 'Russian Federation']], ['Bhutan', 'BTN', ['27.4727924', '89.6392863'], ['India', 'China']], ['Brazil', 'BRA', ['-15.794392', '-47.882004'], ['Argentina', 'Uruguay', 'Guyana', 'Colombia', 'Suriname', 'Paraguay', 'France', 'Venezuela', 'Peru', 'Bolivia']], ['France', 'FRA', ['48.856614', '2.3522219'], ['Andorra', 'Italy', 'Switzerland', 'Spain', 'Germany', 'Belgium', 'Monaco', 'Luxembourg']], ['Bulgaria', 'BGR', ['42.6977082', '23.3218675'], ['Greece', 'Serbia', 'Turkey', 'Macedonia', 'Romania']], ['Burkina Faso', 'BFA', ['12.3714277', '-1.5196603'], ['Ghana', \"Côte d'Ivoire\", 'Togo', 'Niger', 'Benin', 'Mali']], ['Brunei Darussalam', 'BRN', ['4.9030522', '114.939821'], ['Malaysia']], ['Burundi', 'BDI', ['-3.361378', '29.3598782'], ['Congo', 'Tanzania', 'Rwanda']], ['Viet Nam', 'VNM', ['21.0277644', '105.8341598'], ['Cambodia', 'China', \"Lao People's Democratic Republic\"]], ['Benin', 'BEN', ['6.4968574', '2.6288523'], ['Togo', 'Nigeria', 'Niger', 'Burkina Faso']], ['Venezuela', 'VEN', ['10.4805937', '-66.9036063'], ['Guyana', 'Colombia', 'Brazil']], ['Belarus', 'BLR', ['53.9045398', '27.5615244'], ['Ukraine', 'Poland', 'Latvia', 'Lithuania', 'Russian Federation']], ['Belize', 'BLZ', ['17.2510114', '-88.7590201'], ['Guatemala', 'Mexico']], ['Peru', 'PER', ['-12.0463731', '-77.042754'], ['Ecuador', 'Colombia', 'Chile', 'Brazil', 'Bolivia']], ['Belgium', 'BEL', ['50.8503463', '4.3517211'], ['Netherlands', 'Germany', 'France', 'Luxembourg']], ['Poland', 'POL', ['52.2296756', '21.0122287'], ['Ukraine', 'Slovakia', 'Czech Republic', 'Germany', 'Belarus', 'Lithuania', 'Russian Federation']], ['Bosnia and Herzegovina', 'BIH', ['43.8562586', '18.4130763'], ['Croatia', 'Serbia', 'Montenegro']], ['Botswana', 'BWA', ['-24.6282079', '25.9231471'], ['Zimbabwe', 'Namibia', 'Botswana', 'South Africa']], ['Bolivia', 'BOL', ['-16.489689', '-68.1192936'], ['Argentina', 'Chile', 'Paraguay', 'Brazil', 'Peru']], ['Portugal', 'PRT', ['38.7222524', '-9.1393366'], ['Spain']], ['Honduras', 'HND', ['14.0722751', '-87.192136'], ['El Salvador', 'Guatemala', 'Nicaragua']], ['Marshall Islands', 'MHL', ['7.1164214', '171.1857736'], []], ['Macedonia', 'MKD', ['41.9973462', '21.4279956'], ['Albania', 'Greece', 'Kosovo', 'Serbia', 'Bulgaria']], ['Madagascar', 'MDG', ['-18.8791902', '47.5079055'], []], ['Malawi', 'MWI', ['-13.9626121', '33.7741195'], ['Zambia', 'Tanzania', 'Mozambique']], ['Mali', 'MLI', ['12.6392316', '-8.0028892'], ['Algeria', 'Guinea', \"Côte d'Ivoire\", 'Senegal', 'Niger', 'Burkina Faso', 'Mauritania']], ['Malta', 'MLT', ['35.8989085', '14.5145528'], []], ['Malaysia', 'MYS', ['3.139003', '101.686855'], ['Thailand', 'Brunei Darussalam']], ['Micronesia', 'FSM', ['6.9147118', '158.1610274'], []], ['South Africa', 'ZAF', ['-25.7478676', '28.2292712'], ['Zimbabwe', 'Swaziland', 'Namibia', 'Botswana', 'Mozambique', 'Lesotho']], ['Myanmar', 'MMR', ['19.7633057', '96.0785104'], ['India', 'Thailand', 'China', 'Bangladesh', \"Lao People's Democratic Republic\"]], ['Mexico', 'MEX', ['19.4326077', '-99.133208'], ['United States', 'Guatemala', 'Belize']], ['Mauritius', 'MUS', ['-20.1608912', '57.5012222'], []], ['Mauritania', 'MRT', ['18.0735299', '-15.9582372'], ['Algeria', 'Senegal', 'Mali']], ['Mozambique', 'MOZ', ['-25.969248', '32.5731746'], ['Zambia', 'Zimbabwe', 'Swaziland', 'Tanzania', 'Malawi', 'South Africa']], ['Monaco', 'MCO', ['43.737247', '7.420681'], ['Italy', 'France']], ['Maldives', 'MDV', ['4.1754959', '73.5093474'], []], ['Moldova', 'MDA', ['47.0104529', '28.8638102'], ['Ukraine', 'Romania']], ['Morocco', 'MAR', ['33.9715904', '-6.8498129'], ['Algeria', 'Spain']], ['Mongolia', 'MNG', ['47.8863988', '106.9057439'], ['China', 'Russian Federation']], ['Montenegro', 'MNE', ['42.4304196', '19.2593642'], ['Albania', 'Serbia', 'Bosnia and Herzegovina']], ['Jordan', 'JOR', ['31.9453666', '35.9283716'], ['Israel', 'Iraq', 'Saudi Arabia', 'Syrian Arab Republic']], [\"Lao People's Democratic Republic\", 'LAO', ['17.9757058', '102.6331035'], ['Cambodia', 'Thailand', 'China', 'Viet Nam', 'Myanmar']], ['Latvia', 'LVA', ['56.9496487', '24.1051865'], ['Estonia', 'Belarus', 'Lithuania', 'Russian Federation']], ['Lithuania', 'LTU', ['54.6871555', '25.2796514'], ['Belarus', 'Poland', 'Latvia', 'Russian Federation']], ['Libya', 'LBY', ['32.8872094', '13.1913383'], ['Algeria', 'Egypt', 'Sudan', 'Chad', 'Tunisia', 'Niger']], ['Liechtenstein', 'LIE', ['47.1410303', '9.5209277'], ['Austria', 'Switzerland']], ['Liberia', 'LBR', ['6.2907432', '-10.7605239'], ['Guinea', \"Côte d'Ivoire\", 'Sierra Leone']], ['Romania', 'ROU', ['44.4267674', '26.1025384'], ['Ukraine', 'Serbia', 'Hungary', 'Bulgaria', 'Moldova']], ['Luxembourg', 'LUX', ['49.611621', '6.1319346'], ['Germany', 'France', 'Belgium']], ['Rwanda', 'RWA', ['-1.9705786', '30.1044288'], ['Uganda', 'Congo', 'Tanzania', 'Burundi']], ['Lesotho', 'LSO', ['-29.3150767', '27.4869229'], ['South Africa']], ['Lebanon', 'LBN', ['33.8937913', '35.5017767'], ['Israel', 'Syrian Arab Republic', 'Jordan']], ['Russian Federation', 'RUS', ['55.755826', '37.6172999'], ['Azerbaijan', 'Ukraine', 'Estonia', 'Kazakhstan', 'Georgia', 'China', \"Korea, Democratic People's Republic of\", 'Norway', 'Finland', 'Belarus', 'Poland', 'Mongolia', 'Latvia', 'Lithuania']]]\n"
          ],
          "name": "stdout"
        }
      ]
    },
    {
      "cell_type": "code",
      "metadata": {
        "id": "UktiC_9SBOiJ",
        "colab_type": "code",
        "colab": {
          "base_uri": "https://localhost:8080/",
          "height": 34
        },
        "outputId": "3c95ddb6-6d73-47f9-c1b8-e5f965bc30eb"
      },
      "source": [
        "from google.colab import drive\n",
        "drive.mount('./gdrive')"
      ],
      "execution_count": 111,
      "outputs": [
        {
          "output_type": "stream",
          "text": [
            "Mounted at ./gdrive\n"
          ],
          "name": "stdout"
        }
      ]
    },
    {
      "cell_type": "code",
      "metadata": {
        "id": "hNugwHucCb0k",
        "colab_type": "code",
        "colab": {
          "base_uri": "https://localhost:8080/",
          "height": 51
        },
        "outputId": "060304bc-16ed-4e41-9d60-2b2602896507"
      },
      "source": [
        "!ls gdrive/My\\ Drive\n",
        "!ls"
      ],
      "execution_count": 122,
      "outputs": [
        {
          "output_type": "stream",
          "text": [
            "'Colab Notebooks'   Japan   MPRG_lecture\n",
            "border.csv  capital.csv  gdrive  iso.csv  sample_data\n"
          ],
          "name": "stdout"
        }
      ]
    },
    {
      "cell_type": "code",
      "metadata": {
        "id": "XCEbjPWsBalU",
        "colab_type": "code",
        "colab": {}
      },
      "source": [
        "drive_root_dir=\"./gdrive/My Drive/\"\n",
        "\n",
        "with open(drive_root_dir + 'world.csv', 'w') as f:\n",
        "    writer = csv.writer(f)\n",
        "    writer.writerows(country_list)"
      ],
      "execution_count": 127,
      "outputs": []
    }
  ]
}