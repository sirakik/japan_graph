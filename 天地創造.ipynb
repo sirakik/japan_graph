{
  "nbformat": 4,
  "nbformat_minor": 0,
  "metadata": {
    "colab": {
      "name": "天地創造.ipynb",
      "provenance": [],
      "authorship_tag": "ABX9TyNcXFbSUv3o4J0BdvNd8Ijs",
      "include_colab_link": true
    },
    "kernelspec": {
      "name": "python3",
      "display_name": "Python 3"
    }
  },
  "cells": [
    {
      "cell_type": "markdown",
      "metadata": {
        "id": "view-in-github",
        "colab_type": "text"
      },
      "source": [
        "<a href=\"https://colab.research.google.com/github/sirakik/japan_graph/blob/master/%E5%A4%A9%E5%9C%B0%E5%89%B5%E9%80%A0.ipynb\" target=\"_parent\"><img src=\"https://colab.research.google.com/assets/colab-badge.svg\" alt=\"Open In Colab\"/></a>"
      ]
    },
    {
      "cell_type": "markdown",
      "metadata": {
        "id": "xvNlE6h3EGh0",
        "colab_type": "text"
      },
      "source": [
        "#世界グラフを作る"
      ]
    },
    {
      "cell_type": "markdown",
      "metadata": {
        "id": "vnvr4HEoEN3p",
        "colab_type": "text"
      },
      "source": [
        "SEKAI_DATA.ipynbでworld.csvを作成済み"
      ]
    },
    {
      "cell_type": "code",
      "metadata": {
        "id": "o5v8tpDAEAti",
        "colab_type": "code",
        "colab": {}
      },
      "source": [
        "!wget -q https://raw.githubusercontent.com/sirakik/japan_graph/master/the_creation/world.csv -O world.csv"
      ],
      "execution_count": 1,
      "outputs": []
    }
  ]
}