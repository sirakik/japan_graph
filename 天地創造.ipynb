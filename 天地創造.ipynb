{
  "nbformat": 4,
  "nbformat_minor": 0,
  "metadata": {
    "colab": {
      "name": "天地創造.ipynb",
      "provenance": [],
      "collapsed_sections": [],
      "authorship_tag": "ABX9TyPRazThNjxfmBT5laOyCQ2h",
      "include_colab_link": true
    },
    "kernelspec": {
      "name": "python3",
      "display_name": "Python 3"
    }
  },
  "cells": [
    {
      "cell_type": "markdown",
      "metadata": {
        "id": "view-in-github",
        "colab_type": "text"
      },
      "source": [
        "<a href=\"https://colab.research.google.com/github/sirakik/japan_graph/blob/master/%E5%A4%A9%E5%9C%B0%E5%89%B5%E9%80%A0.ipynb\" target=\"_parent\"><img src=\"https://colab.research.google.com/assets/colab-badge.svg\" alt=\"Open In Colab\"/></a>"
      ]
    },
    {
      "cell_type": "markdown",
      "metadata": {
        "id": "Zs367BuAd5pk",
        "colab_type": "text"
      },
      "source": [
        "###あまりよくないソース"
      ]
    },
    {
      "cell_type": "markdown",
      "metadata": {
        "id": "zdF81j1ieTH3",
        "colab_type": "text"
      },
      "source": [
        "国境（個人のブログ）：　https://misunderstanding.hatenadiary.org/entry/20090305/1236185179  \n",
        "ISO　3166-1コード一覧 https://qiita.com/tao_s/items/32b90a2751bfbdd585ea  "
      ]
    },
    {
      "cell_type": "code",
      "metadata": {
        "id": "Ez_98qm-D-Lv",
        "colab_type": "code",
        "colab": {}
      },
      "source": [
        "import csv\n",
        "!wget -q https://raw.githubusercontent.com/sirakik/japan_graph/master/the_creation/border.csv -O border.csv\n",
        "with open('border.csv') as f:\n",
        "    reader = csv.reader(f)\n",
        "    border = [row for row in reader]\n",
        "\n",
        "!wget -q https://raw.githubusercontent.com/sirakik/japan_graph/master/the_creation/iso.csv -O iso.csv\n",
        "with open('iso.csv') as f:\n",
        "    reader = csv.reader(f)\n",
        "    iso = [row for row in reader]\n",
        "\n",
        "print(len(border))　#194カ国(おそらく国連加盟国＋バチカン)　国境データを優先\n",
        "print(len(iso))    #250カ国"
      ],
      "execution_count": null,
      "outputs": []
    },
    {
      "cell_type": "markdown",
      "metadata": {
        "id": "e4VcKTObg4bt",
        "colab_type": "text"
      },
      "source": [
        "国境データ：194カ国(おそらく国連加盟国＋バチカン)　  \n",
        "ISOデータ：250カ国  \n",
        "\n",
        "多くの国に認められていないような国家の情報は，ほとんど取得できないと想像.  \n",
        "ノード数は,国境データを利用\n",
        "\n",
        "\n",
        "\n",
        "国のindex(0~193)はISOデータを利用（50音順）\n"
      ]
    },
    {
      "cell_type": "code",
      "metadata": {
        "id": "v2naL_nFiqNr",
        "colab_type": "code",
        "colab": {
          "base_uri": "https://localhost:8080/",
          "height": 51
        },
        "outputId": "c1c2f726-3013-404d-ba52-f331dc56a09b"
      },
      "source": [
        "print(iso[1])\n",
        "print(border[0])"
      ],
      "execution_count": null,
      "outputs": [
        {
          "output_type": "stream",
          "text": [
            "['アイスランド', 'Iceland', '352', 'ISL', 'IS', '北ヨーロッパ', 'ISO 3166-2:IS']\n",
            "['ロシア', 'アゼルバイジャン', 'ウクライナ', 'エストニア', 'カザフスタン', 'グルジア', '中華人民共和国', '朝鮮民主主義人民共和国', 'ノルウェー', 'フィンランド', 'ベラルーシ', 'ポーランド', 'モンゴル', 'ラトビア', 'リトアニア']\n"
          ],
          "name": "stdout"
        }
      ]
    },
    {
      "cell_type": "markdown",
      "metadata": {
        "id": "TIRnX_ofkgvB",
        "colab_type": "text"
      },
      "source": [
        "データによって国名が違うのため，手作業で変更(国境データを変更)\n"
      ]
    },
    {
      "cell_type": "markdown",
      "metadata": {
        "id": "siViFVFCkp_2",
        "colab_type": "text"
      },
      "source": [
        "欲しいデータ\n",
        "['国名(英語)', '英3字', '首都の緯度経度(後で)', '[隣接国]']"
      ]
    },
    {
      "cell_type": "code",
      "metadata": {
        "id": "8v8sFwBoDGuQ",
        "colab_type": "code",
        "colab": {
          "base_uri": "https://localhost:8080/",
          "height": 54
        },
        "outputId": "47670727-c284-41e4-9da7-9a7a3ad37c4a"
      },
      "source": [
        "country_list = []\n",
        "\n",
        "index = 0\n",
        "for row in iso:\n",
        "    country_jp = row[0]\n",
        "    \n",
        "    for row_border in border:\n",
        "       if country_jp == row_border[0]:\n",
        "           neighbor = [i for i in row_border[1:] if i != '']\n",
        "\n",
        "           for i, nie_country in enumerate(neighbor):\n",
        "               for row_ in iso:\n",
        "                   if nie_country == row_[0]:\n",
        "                       neighbor[i] = row_[1]\n",
        "\n",
        "           country_list.append([row[1], row[3], neighbor])\n",
        "           index += 1\n",
        "print(country_list)"
      ],
      "execution_count": null,
      "outputs": [
        {
          "output_type": "stream",
          "text": [
            "[['Iceland', 'ISL', []], ['Ireland', 'IRL', ['United Kingdom']], ['Azerbaijan', 'AZE', ['イラン', 'Georgia', 'Armenia', 'ロシア']], ['Afghanistan', 'AFG', ['イラン', 'Uzbekistan', 'Tajikistan', '中華人民共和国', 'Turkmenistan', 'Pakistan']], ['United Arab Emirates', 'ARE', ['Oman', 'Qatar', 'Saudi Arabia']], ['Algeria', 'DZA', ['Tunisia', 'Niger', 'マリ', 'Mauritania', 'Morocco', 'Libya']], ['Argentina', 'ARG', ['Uruguay', 'Chile', 'Paraguay', 'ボリビア', 'Brazil']], ['Albania', 'ALB', ['Greece', 'コソボ', 'マケドニア', 'Montenegro']], ['Armenia', 'ARM', ['イラン', 'Azerbaijan', 'Georgia', 'Turkey']], ['Angola', 'AGO', ['Congo', 'Congo, the Democratic Republic of the', 'Zambia', 'Namibia']], ['Andorra', 'AND', ['Spain', 'France']], ['Yemen', 'YEM', ['Oman', 'Saudi Arabia']], ['United Kingdom', 'GBR', ['Ireland', 'Cyprus', 'Spain']], ['Israel', 'ISR', ['Egypt', 'シリア', 'Jordan', 'Lebanon']], ['Italy', 'ITA', ['Austria', 'San Marino', 'Switzerland', 'Slovenia', 'バチカン', 'France']], ['Iraq', 'IRQ', ['イラン', 'Kuwait', 'Saudi Arabia', 'シリア', 'Turkey', 'Jordan']], ['India', 'IND', ['中華人民共和国', 'Bangladesh', 'Bhutan', 'Nepal', 'Myanmar']], ['Indonesia', 'IDN', ['Timor-Leste', 'Papua New Guinea', 'Malaysia']], ['Uganda', 'UGA', ['Kenya', 'Congo, the Democratic Republic of the', 'Sudan', 'Tanzania, United Republic of', 'Rwanda']], ['Ukraine', 'UKR', ['Slovakia', 'Hungary', 'Belarus', 'Poland', 'モルドバ', 'Romania', 'ロシア']], ['Uzbekistan', 'UZB', ['Afghanistan', 'Kazakhstan', 'Kyrgyzstan', 'Tajikistan', 'Turkmenistan']], ['Uruguay', 'URY', ['Argentina', 'Brazil']], ['Ecuador', 'ECU', ['Colombia', 'Peru']], ['Egypt', 'EGY', ['Israel', 'Sudan', 'Libya']], ['Estonia', 'EST', ['Latvia', 'ロシア']], ['Ethiopia', 'ETH', ['Eritrea', 'Kenya', 'Djibouti', 'Sudan', 'Somalia']], ['Eritrea', 'ERI', ['Ethiopia', 'Djibouti', 'Sudan']], ['El Salvador', 'SLV', ['Guatemala', 'Honduras']], ['Australia', 'AUS', []], ['Austria', 'AUT', ['Italy', 'Switzerland', 'Slovakia', 'Slovenia', 'Czech Republic', 'Germany', 'Hungary', 'Liechtenstein']], ['Oman', 'OMN', ['United Arab Emirates', 'Yemen', 'Saudi Arabia']], ['Netherlands', 'NLD', ['Germany', 'Belgium']], ['Ghana', 'GHA', [\"Côte d'Ivoire\", 'Togo', 'Burkina Faso']], ['Cape Verde', 'CPV', []], ['Guyana', 'GUY', ['Suriname', 'Brazil', 'ベネズエラ']], ['Kazakhstan', 'KAZ', ['Uzbekistan', 'Kyrgyzstan', '中華人民共和国', 'Turkmenistan', 'ロシア']], ['Qatar', 'QAT', ['United Arab Emirates', 'Saudi Arabia']], ['Canada', 'CAN', ['アメリカ']], ['Gabon', 'GAB', ['Cameroon', 'Congo', 'Equatorial Guinea']], ['Cameroon', 'CMR', ['Gabon', 'Congo', 'Equatorial Guinea', 'Chad', '中央アフリカ', 'Nigeria']], ['Gambia', 'GMB', ['Senegal']], ['Cambodia', 'KHM', ['タイ', 'Viet Nam', 'ラオス']], ['Guinea', 'GIN', ['Guinea-Bissau', \"Côte d'Ivoire\", 'Sierra Leone', 'Senegal', 'マリ', 'Liberia']], ['Guinea-Bissau', 'GNB', ['Guinea', 'Senegal']], ['Cyprus', 'CYP', ['United Kingdom']], ['Cuba', 'CUB', []], ['Greece', 'GRC', ['Albania', 'Turkey', 'Bulgaria', 'マケドニア']], ['Kiribati', 'KIR', []], ['Kyrgyzstan', 'KGZ', ['Uzbekistan', 'Kazakhstan', 'Tajikistan', '中華人民共和国']], ['Guatemala', 'GTM', ['El Salvador', 'Belize', 'Honduras', 'Mexico']], ['Kuwait', 'KWT', ['Iraq', 'Saudi Arabia']], ['Georgia', 'GEO', ['Armenia', 'Azerbaijan', 'Turkey', 'ロシア']], ['Grenada', 'GRD', []], ['Croatia', 'HRV', ['Slovenia', 'Serbia', 'Hungary', 'ボスニア＝ヘルツェゴビナ']], ['Kenya', 'KEN', ['Uganda', 'Ethiopia', 'Sudan', 'Somalia', 'Tanzania, United Republic of']], [\"Côte d'Ivoire\", 'CIV', ['Ghana', 'Guinea', 'Burkina Faso', 'マリ', 'Liberia']], ['Costa Rica', 'CRI', ['Nicaragua', 'Panama']], ['Comoros', 'COM', []], ['Colombia', 'COL', ['Ecuador', 'Panama', 'Brazil', 'ベネズエラ', 'Peru']], ['Congo', 'COG', ['Angola', 'Gabon', 'Cameroon', 'Congo, the Democratic Republic of the', '中央アフリカ']], ['Congo, the Democratic Republic of the', 'COD', ['Angola', 'Uganda', 'Congo', 'Zambia', 'Sudan', 'Tanzania, United Republic of', '中央アフリカ', 'Burundi', 'Rwanda']], ['Saudi Arabia', 'SAU', ['United Arab Emirates', 'Yemen', 'Iraq', 'Oman', 'Qatar', 'Kuwait', 'Jordan']], ['Samoa', 'WSM', []], ['Zambia', 'ZMB', ['Angola', 'Congo, the Democratic Republic of the', 'Zimbabwe', 'Tanzania, United Republic of', 'Namibia', 'Botswana', 'Malawi', 'Mozambique']], ['San Marino', 'SMR', ['Italy']], ['Sierra Leone', 'SLE', ['Guinea', 'Liberia']], ['Djibouti', 'DJI', ['Ethiopia', 'Eritrea', 'Somalia']], ['Jamaica', 'JAM', []], ['Singapore', 'SGP', []], ['Zimbabwe', 'ZWE', ['Zambia', 'Botswana', '南アフリカ', 'Mozambique']], ['Switzerland', 'CHE', ['Italy', 'Austria', 'Germany', 'France', 'Liechtenstein']], ['Sweden', 'SWE', ['Finland', 'Norway']], ['Sudan', 'SDN', ['Uganda', 'Egypt', 'Ethiopia', 'Eritrea', 'Kenya', 'Congo, the Democratic Republic of the', 'Chad', '中央アフリカ', 'Libya']], ['Spain', 'ESP', ['Andorra', 'United Kingdom', 'France', 'Portugal', 'Morocco']], ['Suriname', 'SUR', ['Guyana', 'France', 'Brazil']], ['Sri Lanka', 'LKA', []], ['Slovakia', 'SVK', ['Ukraine', 'Austria', 'Czech Republic', 'Hungary', 'Poland']], ['Slovenia', 'SVN', ['Italy', 'Austria', 'Croatia', 'Hungary']], ['Swaziland', 'SWZ', ['南アフリカ', 'Mozambique']], ['Seychelles', 'SYC', []], ['Equatorial Guinea', 'GNQ', ['Gabon', 'Cameroon']], ['Senegal', 'SEN', ['Gambia', 'Guinea', 'Guinea-Bissau', 'マリ', 'Mauritania']], ['Serbia', 'SRB', ['Croatia', 'コソボ', 'Hungary', 'Bulgaria', 'ボスニア＝ヘルツェゴビナ', 'マケドニア', 'Montenegro', 'Romania']], ['Saint Lucia', 'LCA', []], ['Somalia', 'SOM', ['Ethiopia', 'Kenya', 'Djibouti']], ['Solomon Islands', 'SLB', []], ['Korea, Republic of', 'KOR', [\"Korea, Democratic People's Republic of\"]], ['Tajikistan', 'TJK', ['Afghanistan', 'Uzbekistan', 'Kyrgyzstan', '中華人民共和国']], ['Tanzania, United Republic of', 'TZA', ['Uganda', 'Kenya', 'Congo, the Democratic Republic of the', 'Zambia', 'Burundi', 'Malawi', 'Mozambique', 'Rwanda']], ['Czech Republic', 'CZE', ['Austria', 'Slovakia', 'Germany', 'Poland']], ['Chad', 'TCD', ['Cameroon', 'Sudan', '中央アフリカ', 'Nigeria', 'Niger', 'Libya']], ['Tunisia', 'TUN', ['Algeria', 'Libya']], [\"Korea, Democratic People's Republic of\", 'PRK', ['Korea, Republic of', '中華人民共和国', 'ロシア']], ['Chile', 'CHL', ['Argentina', 'Peru', 'ボリビア']], ['Tuvalu', 'TUV', []], ['Denmark', 'DNK', ['Germany']], ['Germany', 'DEU', ['Austria', 'Netherlands', 'Switzerland', 'Czech Republic', 'Denmark', 'France', 'Belgium', 'Poland', 'Luxembourg']], ['Togo', 'TGO', ['Ghana', 'Burkina Faso', 'Benin']], ['Dominican Republic', 'DOM', ['Haiti']], ['Dominica', 'DMA', []], ['Turkmenistan', 'TKM', ['Afghanistan', 'イラン', 'Uzbekistan', 'Kazakhstan']], ['Turkey', 'TUR', ['Armenia', 'Iraq', 'イラン', 'Greece', 'Georgia', 'シリア', 'Bulgaria']], ['Tonga', 'TON', []], ['Nigeria', 'NGA', ['Cameroon', 'Chad', 'Niger', 'Benin']], ['Nauru', 'NRU', []], ['Namibia', 'NAM', ['Angola', 'Zambia', 'Botswana', '南アフリカ']], ['Nicaragua', 'NIC', ['Costa Rica', 'Honduras']], ['Niger', 'NER', ['Algeria', 'Chad', 'Nigeria', 'Burkina Faso', 'Benin', 'マリ', 'Libya']], ['Japan', 'JPN', []], ['New Zealand', 'NZL', []], ['Nepal', 'NPL', ['India', '中華人民共和国']], ['Norway', 'NOR', ['Sweden', 'Finland', 'ロシア']], ['Bahrain', 'BHR', []], ['Haiti', 'HTI', ['Dominican Republic']], ['Pakistan', 'PAK', ['Afghanistan', 'India', 'イラン']], ['Panama', 'PAN', ['Costa Rica', 'Colombia']], ['Vanuatu', 'VUT', []], ['Bahamas', 'BHS', []], ['Papua New Guinea', 'PNG', ['Indonesia']], ['Palau', 'PLW', []], ['Paraguay', 'PRY', ['Argentina', 'Brazil', 'ボリビア']], ['Barbados', 'BRB', []], ['Hungary', 'HUN', ['Ukraine', 'Austria', 'Croatia', 'Slovakia', 'Slovenia', 'Serbia', 'Romania']], ['Bangladesh', 'BGD', ['India', 'Myanmar']], ['Timor-Leste', 'TLS', ['Indonesia']], ['Fiji', 'FJI', []], ['Philippines', 'PHL', []], ['Finland', 'FIN', ['Sweden', 'Norway', 'ロシア']], ['Bhutan', 'BTN', ['India', '中華人民共和国']], ['Brazil', 'BRA', ['Argentina', 'Uruguay', 'Guyana', 'Colombia', 'Suriname', 'Paraguay', 'France', 'ベネズエラ', 'Peru', 'ボリビア']], ['France', 'FRA', ['Andorra', 'Italy', 'Switzerland', 'Spain', 'Germany', 'Belgium', 'Monaco', 'Luxembourg']], ['Bulgaria', 'BGR', ['Greece', 'Serbia', 'Turkey', 'マケドニア', 'Romania']], ['Burkina Faso', 'BFA', ['Ghana', \"Côte d'Ivoire\", 'Togo', 'Niger', 'Benin', 'マリ']], ['Burundi', 'BDI', ['Congo, the Democratic Republic of the', 'Tanzania, United Republic of', 'Rwanda']], ['Viet Nam', 'VNM', ['Cambodia', '中華人民共和国', 'ラオス']], ['Benin', 'BEN', ['Togo', 'Nigeria', 'Niger', 'Burkina Faso']], ['Belarus', 'BLR', ['Ukraine', 'Poland', 'Latvia', 'Lithuania', 'ロシア']], ['Belize', 'BLZ', ['Guatemala', 'Mexico']], ['Peru', 'PER', ['Ecuador', 'Colombia', 'Chile', 'Brazil', 'ボリビア']], ['Belgium', 'BEL', ['Netherlands', 'Germany', 'France', 'Luxembourg']], ['Poland', 'POL', ['Ukraine', 'Slovakia', 'Czech Republic', 'Germany', 'Belarus', 'Lithuania', 'ロシア']], ['Botswana', 'BWA', ['Zimbabwe', 'Namibia', 'Botswana', '南アフリカ']], ['Portugal', 'PRT', ['Spain']], ['Honduras', 'HND', ['El Salvador', 'Guatemala', 'Nicaragua']], ['Marshall Islands', 'MHL', []], ['Madagascar', 'MDG', []], ['Malawi', 'MWI', ['Zambia', 'Tanzania, United Republic of', 'Mozambique']], ['Malta', 'MLT', []], ['Malaysia', 'MYS', ['タイ', 'ブルネイ']], ['Myanmar', 'MMR', ['India', 'タイ', '中華人民共和国', 'Bangladesh', 'ラオス']], ['Mexico', 'MEX', ['アメリカ', 'Guatemala', 'Belize']], ['Mauritius', 'MUS', []], ['Mauritania', 'MRT', ['Algeria', 'Senegal', 'マリ']], ['Mozambique', 'MOZ', ['Zambia', 'Zimbabwe', 'Swaziland', 'Tanzania, United Republic of', 'Malawi', '南アフリカ']], ['Monaco', 'MCO', ['Italy', 'France']], ['Morocco', 'MAR', ['Algeria', 'Spain']], ['Montenegro', 'MNE', ['Albania', 'Serbia', 'ボスニア＝ヘルツェゴビナ']], ['Jordan', 'JOR', ['Israel', 'Iraq', 'Saudi Arabia', 'シリア']], ['Latvia', 'LVA', ['Estonia', 'Belarus', 'Lithuania', 'ロシア']], ['Lithuania', 'LTU', ['Belarus', 'Poland', 'Latvia', 'ロシア']], ['Libya', 'LBY', ['Algeria', 'Egypt', 'Sudan', 'Chad', 'Tunisia', 'Niger']], ['Liechtenstein', 'LIE', ['Austria', 'Switzerland']], ['Liberia', 'LBR', ['Guinea', \"Côte d'Ivoire\", 'Sierra Leone']], ['Romania', 'ROU', ['Ukraine', 'Serbia', 'Hungary', 'Bulgaria', 'モルドバ']], ['Luxembourg', 'LUX', ['Germany', 'France', 'Belgium']], ['Rwanda', 'RWA', ['Uganda', 'Congo, the Democratic Republic of the', 'Tanzania, United Republic of', 'Burundi']], ['Lesotho', 'LSO', ['南アフリカ']], ['Lebanon', 'LBN', ['Israel', 'シリア', 'Jordan']]]\n"
          ],
          "name": "stdout"
        }
      ]
    }
  ]
}