{
  "nbformat": 4,
  "nbformat_minor": 0,
  "metadata": {
    "colab": {
      "name": "コロナデータ視察.ipynb",
      "provenance": [],
      "authorship_tag": "ABX9TyNfCjhjGSrUYA1Aosj/fhzj",
      "include_colab_link": true
    },
    "kernelspec": {
      "name": "python3",
      "display_name": "Python 3"
    }
  },
  "cells": [
    {
      "cell_type": "markdown",
      "metadata": {
        "id": "view-in-github",
        "colab_type": "text"
      },
      "source": [
        "<a href=\"https://colab.research.google.com/github/sirakik/japan_graph/blob/master/%E3%82%B3%E3%83%AD%E3%83%8A%E3%83%87%E3%83%BC%E3%82%BF%E8%A6%96%E5%AF%9F.ipynb\" target=\"_parent\"><img src=\"https://colab.research.google.com/assets/colab-badge.svg\" alt=\"Open In Colab\"/></a>"
      ]
    },
    {
      "cell_type": "markdown",
      "metadata": {
        "id": "Wu12zCIeaZEV",
        "colab_type": "text"
      },
      "source": [
        "#下ごしらえ"
      ]
    },
    {
      "cell_type": "code",
      "metadata": {
        "id": "Wk8ozdLDad1y",
        "colab_type": "code",
        "colab": {}
      },
      "source": [
        "import csv\n",
        "import datetime\n",
        "import numpy as np"
      ],
      "execution_count": 26,
      "outputs": []
    },
    {
      "cell_type": "code",
      "metadata": {
        "id": "V7PKS4aVZdeM",
        "colab_type": "code",
        "colab": {}
      },
      "source": [
        "!wget -q https://raw.githubusercontent.com/kaz-ogiwara/covid19/master/data/prefectures.csv -O corona.csv"
      ],
      "execution_count": 6,
      "outputs": []
    },
    {
      "cell_type": "markdown",
      "metadata": {
        "id": "DdLElNzqhWVQ",
        "colab_type": "text"
      },
      "source": [
        "# データ読み込み"
      ]
    },
    {
      "cell_type": "markdown",
      "metadata": {
        "id": "iUL3timneLeZ",
        "colab_type": "text"
      },
      "source": [
        "testedPositive: 検査陽性者数  \n",
        "peopleTested: 検査実施人数  \n",
        "hospitalized: 入院治療等を要する者  \n",
        "serious: 重症者数  \n",
        "discharged: 退院・療養解除  \n",
        "deaths: 死亡者数  \n",
        "effectiveReproductionNumber: 実効再生産数"
      ]
    },
    {
      "cell_type": "code",
      "metadata": {
        "id": "h2r0dn7qfFc6",
        "colab_type": "code",
        "colab": {
          "base_uri": "https://localhost:8080/",
          "height": 34
        },
        "outputId": "053e4c85-71b4-497f-ba53-c490f019dc05"
      },
      "source": [
        "dt1 = datetime.datetime(year=2020, month=2, day=8) #　2月8日からデータが始まっています\n",
        "dt2 = datetime.datetime(year=2020, month=9, day=13) # ほぼ毎日更新っぽいので，今日の日付に合わせましょう．ただし何時更新かは知らないので，手作業で合わせてください\n",
        "dif_days = (dt2 - dt1).days +1\n",
        "print('#　日数: ', dif_days)"
      ],
      "execution_count": 65,
      "outputs": [
        {
          "output_type": "stream",
          "text": [
            "#　日数:  219\n"
          ],
          "name": "stdout"
        }
      ]
    },
    {
      "cell_type": "code",
      "metadata": {
        "id": "Ta81wQ3Mhoo8",
        "colab_type": "code",
        "colab": {}
      },
      "source": [
        "# 都道府県名 (データに合わせて, GummaをGunmaに変更)\n",
        "todofuken = {0:'Hokkaido', 1:'Aomori', 2:'Iwate', 3:'Miyagi', 4:'Akita', 5:'Yamagata', 6:'Fukushima', 7:'Ibaraki', 8:'Tochigi', 9:'Gunma', 10:'Saitama', 11:'Chiba', 12:'Tokyo', 13:'Kanagawa', 14:'Niigata', 15:'Toyama', 16:'Ishikawa', 17:'Fukui', 18:'Yamanashi', 19:'Nagano', 20:'Gifu', 21:'Shizuoka', 22:'Aichi', 23:'Mie', 24:'Shiga', 25:'Kyoto', 26:'Osaka', 27:'Hyogo', 28:'Nara', 29:'Wakayama', 30:'Tottori', 31:'Shimane', 32:'Okayama', 33:'Hiroshima', 34:'Yamaguchi', 35:'Tokushima', 36:'Kagawa', 37:'Ehime', 38:'Kochi', 39:'Fukuoka', 40:'Saga', 41:'Nagasaki', 42:'Kumamoto', 43:'Oita', 44:'Miyazaki', 45:'Kagoshima', 46:'Okinawa'}\n",
        "\n",
        "def find_key(value):\n",
        "    for k, v in todofuken.items():\n",
        "        if value == v:\n",
        "          return k"
      ],
      "execution_count": 47,
      "outputs": []
    },
    {
      "cell_type": "code",
      "metadata": {
        "id": "xYXw3zZpa-AS",
        "colab_type": "code",
        "colab": {
          "base_uri": "https://localhost:8080/",
          "height": 136
        },
        "outputId": "1b7d6be9-44bd-4f2f-b412-cdf740ba4e4b"
      },
      "source": [
        "daily_infected = np.zeros((47, dif_days))\n",
        "\n",
        "with open('corona.csv') as f:\n",
        "    corona_data = csv.reader(f)\n",
        "    for i, d in enumerate(corona_data):\n",
        "        if i == 0:\n",
        "            continue\n",
        "\n",
        "        # 都道府県番号を取得\n",
        "        key = find_key(d[4])\n",
        "        \n",
        "        # 日付を配列番号に変更\n",
        "        dt = datetime.datetime(year=int(d[0]), month=int(d[1]), day=int(d[2]))\n",
        "        index = (dt - dt1).days\n",
        "        daily_infected[key][index] = float(d[5])\n",
        "\n",
        "print(daily_infected)"
      ],
      "execution_count": 67,
      "outputs": [
        {
          "output_type": "stream",
          "text": [
            "[[   0.    0.    0. ... 1860. 1866. 1873.]\n",
            " [   0.    0.    0. ...   35.   35.   35.]\n",
            " [   0.    0.    0. ...   23.   23.   23.]\n",
            " ...\n",
            " [   0.    0.    0. ...  339.  340.  342.]\n",
            " [   0.    0.    0. ...  372.  372.  372.]\n",
            " [   0.    0.    0. ... 2269. 2280. 2290.]]\n"
          ],
          "name": "stdout"
        }
      ]
    }
  ]
}